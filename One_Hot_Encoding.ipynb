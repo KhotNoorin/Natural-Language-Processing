{
  "nbformat": 4,
  "nbformat_minor": 0,
  "metadata": {
    "colab": {
      "provenance": [],
      "authorship_tag": "ABX9TyNxkVWQnMNKc9VHf/F8HcNB"
    },
    "kernelspec": {
      "name": "python3",
      "display_name": "Python 3"
    },
    "language_info": {
      "name": "python"
    }
  },
  "cells": [
    {
      "cell_type": "markdown",
      "source": [
        "# One Hot Encoding:\n",
        "\n",
        "One-Hot Encoding is a method to represent categorical data as binary vectors.  \n",
        "In Natural Language Processing (NLP), it is used to represent words or tokens in a way that machine learning models can process.\n",
        "\n",
        "In this representation:\n",
        "- Each word in the vocabulary is assigned a unique index.\n",
        "- The word is represented by a binary vector of length equal to the vocabulary size.\n",
        "- All vector elements are 0 except for the index corresponding to the word, which is 1.\n",
        "\n",
        "---\n",
        "\n",
        "## How It Works\n",
        "1. **Build Vocabulary**: Extract all unique words from the corpus.\n",
        "2. **Assign Index**: Assign a unique index to each word.\n",
        "3. **Vector Representation**:  \n",
        "   - For a vocabulary of size v, each word is represented as a vector of length v.  \n",
        "   - If the word's index is i, the i-th position is 1 and the rest are 0.\n",
        "\n",
        "Example:  \n",
        "Vocabulary = { \"cat\": 0, \"dog\": 1, \"fish\": 2 }  \n",
        "- \"cat\" → [1, 0, 0]  \n",
        "- \"dog\" → [0, 1, 0]  \n",
        "- \"fish\" → [0, 0, 1]  \n",
        "\n",
        "---\n",
        "\n",
        "## Advantages\n",
        "- Simple and easy to implement.\n",
        "- Preserves the uniqueness of words.\n",
        "\n",
        "---\n",
        "\n",
        "## Disadvantages\n",
        "- **High Dimensionality**: For large vocabularies, vectors become very large and sparse.\n",
        "- **No Semantic Meaning**: Similar words are not closer in vector space.\n",
        "- Inefficient for deep learning models compared to dense embeddings like Word2Vec or GloVe.\n",
        "\n"
      ],
      "metadata": {
        "id": "s8yCQBwnMt3m"
      }
    },
    {
      "cell_type": "markdown",
      "source": [
        "# Manual implementation without libraries\n"
      ],
      "metadata": {
        "id": "zG8NOha_N7k8"
      }
    },
    {
      "cell_type": "code",
      "execution_count": 1,
      "metadata": {
        "id": "JZLcJCSEMsfa"
      },
      "outputs": [],
      "source": [
        "data = [\"Red\", \"Blue\", \"Green\", \"Red\"]"
      ]
    },
    {
      "cell_type": "code",
      "source": [
        "# Get unique categories\n",
        "unique_values = sorted(set(data))\n",
        "print(\"Unique Categories:\", unique_values)"
      ],
      "metadata": {
        "colab": {
          "base_uri": "https://localhost:8080/"
        },
        "id": "RjqeYFDIN8Xj",
        "outputId": "fe11b277-da55-46df-cabf-923179935540"
      },
      "execution_count": 2,
      "outputs": [
        {
          "output_type": "stream",
          "name": "stdout",
          "text": [
            "Unique Categories: ['Blue', 'Green', 'Red']\n"
          ]
        }
      ]
    },
    {
      "cell_type": "code",
      "source": [
        "# Create mapping from category to index\n",
        "category_to_index = {cat: i for i, cat in enumerate(unique_values)}\n",
        "print(\"Category to Index Mapping:\", category_to_index)"
      ],
      "metadata": {
        "colab": {
          "base_uri": "https://localhost:8080/"
        },
        "id": "8Y9Oz0uaN_6S",
        "outputId": "9c062e5d-0ac1-45ab-bf7e-c98c967c3ab3"
      },
      "execution_count": 3,
      "outputs": [
        {
          "output_type": "stream",
          "name": "stdout",
          "text": [
            "Category to Index Mapping: {'Blue': 0, 'Green': 1, 'Red': 2}\n"
          ]
        }
      ]
    },
    {
      "cell_type": "code",
      "source": [
        "# Convert to one-hot vectors\n",
        "one_hot_result = []\n",
        "for item in data:\n",
        "    vector = [0] * len(unique_values)  # start with all zeros\n",
        "    vector[category_to_index[item]] = 1  # put 1 at the correct position\n",
        "    one_hot_result.append(vector)"
      ],
      "metadata": {
        "id": "LSQjqgL3ODm5"
      },
      "execution_count": 4,
      "outputs": []
    },
    {
      "cell_type": "code",
      "source": [
        "print(\"\\nManual One-Hot Encoding Result:\")\n",
        "for item, vector in zip(data, one_hot_result):\n",
        "    print(f\"{item} -> {vector}\")"
      ],
      "metadata": {
        "colab": {
          "base_uri": "https://localhost:8080/"
        },
        "id": "t5WyIVFNOICJ",
        "outputId": "00dc474f-7fe3-4b94-8359-8d2bc633d1ce"
      },
      "execution_count": 5,
      "outputs": [
        {
          "output_type": "stream",
          "name": "stdout",
          "text": [
            "\n",
            "Manual One-Hot Encoding Result:\n",
            "Red -> [0, 0, 1]\n",
            "Blue -> [1, 0, 0]\n",
            "Green -> [0, 1, 0]\n",
            "Red -> [0, 0, 1]\n"
          ]
        }
      ]
    },
    {
      "cell_type": "markdown",
      "source": [
        "# Using Pandas"
      ],
      "metadata": {
        "id": "ezy1-vnbONcS"
      }
    },
    {
      "cell_type": "code",
      "source": [
        "import pandas as pd"
      ],
      "metadata": {
        "id": "aO-_JEHFOKjB"
      },
      "execution_count": 6,
      "outputs": []
    },
    {
      "cell_type": "code",
      "source": [
        "df = pd.DataFrame({'Color': [\"Red\", \"Blue\", \"Green\", \"Red\"]})"
      ],
      "metadata": {
        "id": "acKKC-L5OQTC"
      },
      "execution_count": 7,
      "outputs": []
    },
    {
      "cell_type": "code",
      "source": [
        "# One-hot encoding\n",
        "df_encoded = pd.get_dummies(df, columns=['Color'], prefix='Color')"
      ],
      "metadata": {
        "id": "5ALox4dTOSMS"
      },
      "execution_count": 8,
      "outputs": []
    },
    {
      "cell_type": "code",
      "source": [
        "print(\"Pandas One-Hot Encoding:\")\n",
        "print(df_encoded)"
      ],
      "metadata": {
        "colab": {
          "base_uri": "https://localhost:8080/"
        },
        "id": "z_o-PGtMOUjy",
        "outputId": "ae717044-e5e6-49a9-b757-f7d6598a171b"
      },
      "execution_count": 17,
      "outputs": [
        {
          "output_type": "stream",
          "name": "stdout",
          "text": [
            "Pandas One-Hot Encoding:\n",
            "   Color_Blue  Color_Green  Color_Red\n",
            "0       False        False       True\n",
            "1        True        False      False\n",
            "2       False         True      False\n",
            "3       False        False       True\n"
          ]
        }
      ]
    },
    {
      "cell_type": "markdown",
      "source": [
        "# Using Scikit-learn"
      ],
      "metadata": {
        "id": "lgyeOUg6ObqB"
      }
    },
    {
      "cell_type": "code",
      "source": [
        "from sklearn.preprocessing import OneHotEncoder"
      ],
      "metadata": {
        "id": "LzvOUe46OWQw"
      },
      "execution_count": 18,
      "outputs": []
    },
    {
      "cell_type": "code",
      "source": [
        "df = pd.DataFrame({'Color': [\"Red\", \"Blue\", \"Green\", \"Red\"]})"
      ],
      "metadata": {
        "id": "wRLOyEfjOd-6"
      },
      "execution_count": 19,
      "outputs": []
    },
    {
      "cell_type": "code",
      "source": [
        "# Create encoder\n",
        "encoder = OneHotEncoder(sparse_output=False)  # sparse=False returns array"
      ],
      "metadata": {
        "id": "Gt_lMKkTOf_p"
      },
      "execution_count": 20,
      "outputs": []
    },
    {
      "cell_type": "code",
      "source": [
        "# Fit and transform\n",
        "encoded_array = encoder.fit_transform(df[['Color']])"
      ],
      "metadata": {
        "id": "bIY4yDl4OjfB"
      },
      "execution_count": 21,
      "outputs": []
    },
    {
      "cell_type": "code",
      "source": [
        "# Convert to DataFrame\n",
        "encoded_df = pd.DataFrame(encoded_array, columns=encoder.get_feature_names_out(['Color']))"
      ],
      "metadata": {
        "id": "1L-GViC6OwCQ"
      },
      "execution_count": 22,
      "outputs": []
    },
    {
      "cell_type": "code",
      "source": [
        "print(\"Scikit-learn One-Hot Encoding:\")\n",
        "print(encoded_df)"
      ],
      "metadata": {
        "colab": {
          "base_uri": "https://localhost:8080/"
        },
        "id": "qMLKE1eMOyLx",
        "outputId": "89a1e383-857a-4525-df2f-1da4ac0d6de3"
      },
      "execution_count": 23,
      "outputs": [
        {
          "output_type": "stream",
          "name": "stdout",
          "text": [
            "Scikit-learn One-Hot Encoding:\n",
            "   Color_Blue  Color_Green  Color_Red\n",
            "0         0.0          0.0        1.0\n",
            "1         1.0          0.0        0.0\n",
            "2         0.0          1.0        0.0\n",
            "3         0.0          0.0        1.0\n"
          ]
        }
      ]
    },
    {
      "cell_type": "code",
      "source": [],
      "metadata": {
        "id": "uYTk-KfuO0dx"
      },
      "execution_count": null,
      "outputs": []
    }
  ]
}